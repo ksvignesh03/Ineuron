{
 "cells": [
  {
   "cell_type": "markdown",
   "metadata": {},
   "source": [
    "##### 1 .1 Write a Python Program to implement your own myreduce() function which works exactly like Python's built-in function reduce()"
   ]
  },
  {
   "cell_type": "code",
   "execution_count": 17,
   "metadata": {},
   "outputs": [
    {
     "data": {
      "text/plain": [
       "<generator object myreduce at 0x0000025C46CD9AC0>"
      ]
     },
     "execution_count": 17,
     "metadata": {},
     "output_type": "execute_result"
    }
   ],
   "source": [
    "# Sum of 1st N Natural Numbers, Get the number from user Input\n",
    "\n",
    "#number = int(input(\"Insert The Number: \"))\n",
    "def myreduce(num):\n",
    "    num_list = list(range(1,num+1))\n",
    "    sum_elements = 0\n",
    "    \n",
    "    for i in num_list:\n",
    "        sum_elements = sum_elements + i\n",
    "        \n",
    "    print (\"List of first n Natural Numbers : \")\n",
    "    yield num_list\n",
    "    print (\"Sum of List elements are : \")\n",
    "    yield sum_elements\n",
    "    \n",
    "myreduce(10)\n",
    "\n",
    "#print(\"List of first n Natural Numbers : \",num_list)\n",
    "#print(\"Sum of list elements are : \",sum_elements)\n",
    "    "
   ]
  },
  {
   "cell_type": "code",
   "execution_count": 20,
   "metadata": {},
   "outputs": [
    {
     "name": "stdout",
     "output_type": "stream",
     "text": [
      "Insert the Number : 10\n",
      "List of first n Natural Numbers :  [1, 2, 3, 4, 5, 6, 7, 8, 9, 10]\n",
      "Sum of List elements :  55\n"
     ]
    }
   ],
   "source": [
    "## Same solution by Built-in Reduce() function\n",
    "\n",
    "from functools import reduce\n",
    "\n",
    "number = int(input(\"Insert the Number : \"))\n",
    "num_list = list(range(1,number+1))\n",
    "sum_element = reduce(lambda x, y : x + y,num_list)\n",
    "\n",
    "print(\"List of first n Natural Numbers : \",num_list)\n",
    "print(\"Sum of List elements : \",sum_element)\n"
   ]
  },
  {
   "cell_type": "markdown",
   "metadata": {},
   "source": [
    "##### 1.2 Write a Python program to implement your own myfilter() function which works exactly like Python's built-in function filter()"
   ]
  },
  {
   "cell_type": "code",
   "execution_count": 24,
   "metadata": {},
   "outputs": [
    {
     "name": "stdout",
     "output_type": "stream",
     "text": [
      "Please Insert the number: 20\n",
      "List of numbers:  [1, 2, 3, 4, 5, 6, 7, 8, 9, 10]\n",
      "List of even numbers :  [2, 4, 6, 8, 10, 12, 14, 16, 18, 20]\n",
      "List of odd numbers :  [1, 3, 5, 7, 9, 11, 13, 15, 17, 19]\n"
     ]
    }
   ],
   "source": [
    "number = int(input(\"Please Insert the number: \"))\n",
    "num_lst = list(range(1,number+1))\n",
    "\n",
    "def myfilters(num_lst):\n",
    "    num_evenlst = []\n",
    "    num_oddlst  = []\n",
    "    \n",
    "    for i in num_lst:\n",
    "        if i % 2 == 0:\n",
    "            num_evenlst.append(i)\n",
    "        else:\n",
    "            num_oddlst.append(i)\n",
    "            \n",
    "    return num_evenlst,num_oddlst\n",
    "\n",
    "output_value = myfilters(num_lst)\n",
    "\n",
    "print(\"List of numbers: \",num_list)\n",
    "print(\"List of even numbers : \",output_value[0])\n",
    "print(\"List of odd numbers : \",output_value[1])\n"
   ]
  },
  {
   "cell_type": "code",
   "execution_count": 25,
   "metadata": {},
   "outputs": [
    {
     "name": "stdout",
     "output_type": "stream",
     "text": [
      "Please Insert the number: 20\n",
      "List of numbers:  [1, 2, 3, 4, 5, 6, 7, 8, 9, 10, 11, 12, 13, 14, 15, 16, 17, 18, 19, 20]\n",
      "List of even numbers :  [2, 4, 6, 8, 10, 12, 14, 16, 18, 20]\n",
      "List of odd numbers :  [1, 3, 5, 7, 9, 11, 13, 15, 17, 19]\n"
     ]
    }
   ],
   "source": [
    "## Same solution by Built-in filter() function\n",
    "\n",
    "number = int(input(\"Please Insert the number: \"))\n",
    "num_lst = list(range(1,number+1))\n",
    "\n",
    "num_evenlst = list(filter(lambda x : x % 2 == 0,num_lst))\n",
    "num_oddlst = list(filter(lambda x : x % 2 != 0,num_lst))\n",
    "\n",
    "print(\"List of numbers: \",num_lst)\n",
    "print(\"List of even numbers : \",num_evenlst)\n",
    "print(\"List of odd numbers : \",num_oddlst)\n"
   ]
  },
  {
   "cell_type": "markdown",
   "metadata": {},
   "source": [
    "##### 2 Implement List comprehensions to produce the following lists. Write List comprehensions to produce the following Lists ['A', 'C', 'A', 'D', 'G', 'I', ’L’, ‘ D’] ['x', 'xx', 'xxx', 'xxxx', 'y', 'yy', 'yyy', 'yyyy', 'z', 'zz', 'zzz', 'zzzz'] ['x', 'y', 'z', 'xx', 'yy', 'zz', 'xx', 'yy', 'zz', 'xxxx', 'yyyy', 'zzzz'] [[2], [3], [4], [3], [4], [5], [4], [5], [6]] [[2, 3, 4, 5], [3, 4, 5, 6], [4, 5, 6, 7], [5, 6, 7, 8]] [(1, 1), (2, 1), (3, 1), (1, 2), (2, 2), (3, 2), (1, 3), (2, 3), (3, 3)]"
   ]
  },
  {
   "cell_type": "code",
   "execution_count": 26,
   "metadata": {},
   "outputs": [
    {
     "name": "stdout",
     "output_type": "stream",
     "text": [
      "Output:\n",
      "['A', 'C', 'A', 'D', 'G', 'I', 'L', 'D']\n"
     ]
    }
   ],
   "source": [
    "## Problem-1\n",
    "\n",
    "word=\"AcadGild\"\n",
    "#list Comprehension\n",
    "output_list=[w.upper() for w in list(word)]\n",
    "print(\"Output:\")\n",
    "print(output_list)"
   ]
  },
  {
   "cell_type": "code",
   "execution_count": 27,
   "metadata": {},
   "outputs": [
    {
     "name": "stdout",
     "output_type": "stream",
     "text": [
      "['x', 'xx', 'xxx', 'xxxx', 'y', 'yy', 'yyy', 'yyyy', 'z', 'zz', 'zzz', 'zzzz']\n"
     ]
    }
   ],
   "source": [
    "## Problem-2\n",
    "\n",
    "var_1=list('xyz')\n",
    "var_2=[x*n for x in var_1 for n in range(1,5) ]\n",
    "print(var_2)"
   ]
  },
  {
   "cell_type": "code",
   "execution_count": 31,
   "metadata": {},
   "outputs": [
    {
     "name": "stdout",
     "output_type": "stream",
     "text": [
      "['x']\n",
      "['x', 'x']\n",
      "['x', 'x', 'x']\n",
      "['x', 'x', 'x', 'x']\n",
      "['y']\n",
      "['y', 'y']\n",
      "['y', 'y', 'y']\n",
      "['y', 'y', 'y', 'y']\n",
      "['z']\n",
      "['z', 'z']\n",
      "['z', 'z', 'z']\n",
      "['z', 'z', 'z', 'z']\n"
     ]
    }
   ],
   "source": [
    "# Without List Comprehension\n",
    "\n",
    "var_1 = list('xyz')\n",
    "for x in var_1:\n",
    "    for n in range(1,5):\n",
    "        print(list(x*n))"
   ]
  },
  {
   "cell_type": "code",
   "execution_count": 33,
   "metadata": {},
   "outputs": [
    {
     "name": "stdout",
     "output_type": "stream",
     "text": [
      "['x', 'y', 'z', 'xx', 'yy', 'zz', 'xxx', 'yyy', 'zzz', 'xxxx', 'yyyy', 'zzzz']\n"
     ]
    }
   ],
   "source": [
    "#Problem-3\n",
    "\n",
    "var_1 = list('xyz')\n",
    "var_3=[x*n for n in range(1,5) for x in var_1 ]\n",
    "print(var_3)"
   ]
  },
  {
   "cell_type": "code",
   "execution_count": 36,
   "metadata": {},
   "outputs": [
    {
     "name": "stdout",
     "output_type": "stream",
     "text": [
      "['x']\n",
      "['y']\n",
      "['z']\n",
      "['x', 'x']\n",
      "['y', 'y']\n",
      "['z', 'z']\n",
      "['x', 'x', 'x']\n",
      "['y', 'y', 'y']\n",
      "['z', 'z', 'z']\n",
      "['x', 'x', 'x', 'x']\n",
      "['y', 'y', 'y', 'y']\n",
      "['z', 'z', 'z', 'z']\n"
     ]
    }
   ],
   "source": [
    "# Without List Comprehension\n",
    "\n",
    "var_1 = \"xyz\"\n",
    "for n in range(1,5):\n",
    "    for x in var_1:\n",
    "        print(list(x*n))"
   ]
  },
  {
   "cell_type": "code",
   "execution_count": 37,
   "metadata": {},
   "outputs": [
    {
     "name": "stdout",
     "output_type": "stream",
     "text": [
      "[[2], [3], [4], [3], [4], [5], [4], [5], [6]]\n"
     ]
    }
   ],
   "source": [
    "#Problem 4\n",
    "number=[2,3,4]\n",
    "number_1=[[x+n] for x in number for n in range(0,3)]\n",
    "print(number_1)"
   ]
  },
  {
   "cell_type": "code",
   "execution_count": 39,
   "metadata": {},
   "outputs": [
    {
     "name": "stdout",
     "output_type": "stream",
     "text": [
      "[2]\n",
      "[3]\n",
      "[4]\n",
      "[3]\n",
      "[4]\n",
      "[5]\n",
      "[4]\n",
      "[5]\n",
      "[6]\n"
     ]
    }
   ],
   "source": [
    "# Without List comprehension\n",
    "\n",
    "number = [2,3,4]\n",
    "for x in number:\n",
    "    for n in range(0,3):\n",
    "        print(list([x+n]))"
   ]
  },
  {
   "cell_type": "code",
   "execution_count": 41,
   "metadata": {},
   "outputs": [
    {
     "name": "stdout",
     "output_type": "stream",
     "text": [
      "[[2, 3, 4, 5], [3, 4, 5, 6], [4, 5, 6, 7], [5, 6, 7, 8]]\n"
     ]
    }
   ],
   "source": [
    "#Problem 5\n",
    "num_2=[2,3,4,5]\n",
    "num_3=[[x+n for n in range(0,4)] for x in num_2 ]\n",
    "print(num_3)"
   ]
  },
  {
   "cell_type": "code",
   "execution_count": 42,
   "metadata": {},
   "outputs": [
    {
     "name": "stdout",
     "output_type": "stream",
     "text": [
      "[(1, 1), (2, 1), (3, 1), (1, 2), (2, 2), (3, 2), (1, 3), (2, 3), (3, 3)]\n"
     ]
    }
   ],
   "source": [
    "#Problem 6\n",
    "number_4=[1,2,3]\n",
    "number_5= [(b,a) for a in number_4 for b in number_4]\n",
    "print(number_5)"
   ]
  },
  {
   "cell_type": "code",
   "execution_count": null,
   "metadata": {},
   "outputs": [],
   "source": []
  }
 ],
 "metadata": {
  "kernelspec": {
   "display_name": "Python 3",
   "language": "python",
   "name": "python3"
  },
  "language_info": {
   "codemirror_mode": {
    "name": "ipython",
    "version": 3
   },
   "file_extension": ".py",
   "mimetype": "text/x-python",
   "name": "python",
   "nbconvert_exporter": "python",
   "pygments_lexer": "ipython3",
   "version": "3.8.3"
  }
 },
 "nbformat": 4,
 "nbformat_minor": 4
}
