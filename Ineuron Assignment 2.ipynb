{
 "cells": [
  {
   "cell_type": "markdown",
   "metadata": {},
   "source": [
    "##### 1.Create the below pattern using nested for loop in Python\n",
    "\n",
    "\n",
    "     *\n",
    "     * *\n",
    "     * * *\n",
    "     * * * *\n",
    "     * * * * *\n",
    "     * * * *\n",
    "     * * *\n",
    "     * *\n",
    "     *"
   ]
  },
  {
   "cell_type": "code",
   "execution_count": 1,
   "metadata": {},
   "outputs": [
    {
     "name": "stdout",
     "output_type": "stream",
     "text": [
      "*  \n",
      "* *  \n",
      "* * *  \n",
      "* * * *  \n",
      "* * * * *  \n",
      "* * * *  \n",
      "* * *  \n",
      "* *  \n",
      "*  \n"
     ]
    }
   ],
   "source": [
    "lastnumber = 5\n",
    "for row in range(1,lastnumber):\n",
    "  for column in range(1,row +1):\n",
    "    print(\"*\", end=' ')\n",
    "  print(\" \")\n",
    "\n",
    "for row in range(lastnumber,0,-1):\n",
    "  for column in range(1,row +1):\n",
    "    print(\"*\", end=' ')\n",
    "  print(\" \")"
   ]
  },
  {
   "cell_type": "markdown",
   "metadata": {},
   "source": [
    "##### 2. Write a Python program to reverse a word after accepting the input from the user."
   ]
  },
  {
   "cell_type": "code",
   "execution_count": 6,
   "metadata": {},
   "outputs": [
    {
     "name": "stdout",
     "output_type": "stream",
     "text": [
      "Enter a string:Ineuron\n",
      "Reverse format of the string: noruenI\n"
     ]
    }
   ],
   "source": [
    "var = input(\"Enter a string:\")\n",
    "print(\"Reverse format of the string:\",var[::-1])"
   ]
  },
  {
   "cell_type": "code",
   "execution_count": null,
   "metadata": {},
   "outputs": [],
   "source": []
  }
 ],
 "metadata": {
  "kernelspec": {
   "display_name": "Python 3",
   "language": "python",
   "name": "python3"
  },
  "language_info": {
   "codemirror_mode": {
    "name": "ipython",
    "version": 3
   },
   "file_extension": ".py",
   "mimetype": "text/x-python",
   "name": "python",
   "nbconvert_exporter": "python",
   "pygments_lexer": "ipython3",
   "version": "3.8.3"
  }
 },
 "nbformat": 4,
 "nbformat_minor": 4
}
